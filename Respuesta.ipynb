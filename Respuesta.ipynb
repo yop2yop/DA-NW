{
 "cells": [
  {
   "cell_type": "code",
   "execution_count": 1,
   "metadata": {},
   "outputs": [],
   "source": [
    "import sqlite3\n",
    "import pandas as pd"
   ]
  },
  {
   "cell_type": "code",
   "execution_count": 2,
   "metadata": {},
   "outputs": [],
   "source": [
    "con = sqlite3.connect('database.sqlite')"
   ]
  },
  {
   "cell_type": "markdown",
   "metadata": {},
   "source": [
    "# Parte 1\n",
    "Se pueden observar las siguientes tablas en la base de dato:\n",
    "- Country\n",
    "- League\n",
    "- Match\n",
    "- Player\n",
    "- Player_Attributes\n",
    "- Team\n",
    "- Team_Attributes\n",
    "\n",
    "\n",
    "Para la primera parte se pide unir las tablas Country, League y Team con la tabla Match."
   ]
  },
  {
   "cell_type": "code",
   "execution_count": 104,
   "metadata": {},
   "outputs": [],
   "source": [
    "query = \"\"\"SELECT m.id, m.country_id, c.name as CountryName, m.league_id, l.name as LeagueName ,m.season, m.stage, m.date, m.match_api_id, m.home_team_api_id, ht.team_long_name as home_team_LongName, ht.team_short_name as home_team_Short_name, m.away_team_api_id, at.team_long_name as away_team_LongName, at.team_short_name as away_team_Short_name, m.home_team_goal, m.away_team_goal, m.home_player_X1, m.home_player_X2, m.home_player_X3, m.home_player_X4, m.home_player_X5, m.home_player_X6, m.home_player_X7, m.home_player_X8, m.home_player_X9, m.home_player_X10, m.home_player_X11, m.away_player_X1, m.away_player_X2, m.away_player_X3, m.away_player_X4, m.away_player_X5, m.away_player_X6, m.away_player_X7, m.away_player_X8, m.away_player_X9, m.away_player_X10, m.away_player_X11, m.home_player_Y1, m.home_player_Y2, m.home_player_Y3, m.home_player_Y4, m.home_player_Y5, m.home_player_Y6, m.home_player_Y7, m.home_player_Y8, m.home_player_Y9, m.home_player_Y10, m.home_player_Y11, m.away_player_Y1, m.away_player_Y2, m.away_player_Y3, m.away_player_Y4, m.away_player_Y5, m.away_player_Y6, m.away_player_Y7, m.away_player_Y8, m.away_player_Y9, m.away_player_Y10, m.away_player_Y11, m.home_player_1, m.home_player_2, m.home_player_3, m.home_player_4, m.home_player_5, m.home_player_6, m.home_player_7, m.home_player_8, m.home_player_9, m.home_player_10, m.home_player_11, m.away_player_1, m.away_player_2, m.away_player_3, m.away_player_4, m.away_player_5, m.away_player_6, m.away_player_7, m.away_player_8, m.away_player_9, m.away_player_10, m.away_player_11, m.goal, m.shoton, m.shotoff, m.foulcommit, m.card, m.`cross`, m.corner, m.possession, m.B365H, m.B365D, m.B365A, m.BWH, m.BWD, m.BWA, m.IWH, m.IWD, m.IWA, m.LBH, m.LBD, m.LBA, m.PSH, m.PSD, m.PSA, m.WHH, m.WHD, m.WHA, m.SJH, m.SJD, m.SJA, m.VCH, m.VCD, m.VCA, m.GBH, m.GBD, m.GBA, m.BSH, m.BSD, m.BSA\n",
    "FROM Match m\n",
    "LEFT JOIN League l ON m.league_id = l.id\n",
    "LEFT JOIN Country c ON m.country_id = c.id\n",
    "LEFT JOIN Team ht ON m.home_team_api_id = ht.team_api_id\n",
    "LEFT JOIN Team at ON m.away_team_api_id = at.team_api_id\"\"\""
   ]
  },
  {
   "cell_type": "code",
   "execution_count": 122,
   "metadata": {},
   "outputs": [],
   "source": [
    "df_match = pd.read_sql_query(query, con)\n",
    "#df_match.to_excel(\"Tabla_equipo_detallada.xlsx\")"
   ]
  },
  {
   "cell_type": "markdown",
   "metadata": {},
   "source": [
    "# Parte 2 \n",
    "\n",
    "Para hacer un estudio más profundo, podría ver los historicos de match, para ver que equipos son los que ganan y poder copiar sus estadisticas, ejemplo los que reciben menos goles, que estadisticas tienen sus defensas y arquero. Y los que meten más goles, copiar las estadisticas de su ofensiva, y los que tienen mejor posesion de la pelota, para copiar las estadisticas de sus jugadores de medio campo.\n",
    "\n",
    "Pero pára esta parte usaré las tablas:\n",
    "- Player.\n",
    "- Player_Attributes.\n",
    "Ya que me darán las estadisticas de cada jugador. Haré un merge de los jugadores con sus atributos.\n"
   ]
  },
  {
   "cell_type": "code",
   "execution_count": 6,
   "metadata": {},
   "outputs": [],
   "source": [
    "query = \"\"\"SELECT pa.id, p.player_api_id, p.player_name, p.player_fifa_api_id, p.birthday, p.height, p.weight, pa.player_fifa_api_id, pa.player_api_id, pa.date, pa.overall_rating, pa.potential, pa.preferred_foot, pa.attacking_work_rate, pa.defensive_work_rate, pa.crossing, pa.finishing, pa.heading_accuracy, pa.short_passing, pa.volleys, pa.dribbling, pa.curve, pa.free_kick_accuracy, pa.long_passing, pa.ball_control, pa.acceleration, pa.sprint_speed, pa.agility, pa.reactions, pa.balance, pa.shot_power, pa.jumping, pa.stamina, pa.strength, pa.long_shots, pa.aggression, pa.interceptions, pa.positioning, pa.vision, pa.penalties, pa.marking, pa.standing_tackle, pa.sliding_tackle, pa.gk_diving, pa.gk_handling, pa.gk_kicking, pa.gk_positioning, pa.gk_reflexes\n",
    "FROM Player_Attributes pa\n",
    "LEFT JOIN Player p ON pa.player_fifa_api_id = p.player_fifa_api_id\"\"\""
   ]
  },
  {
   "cell_type": "code",
   "execution_count": 7,
   "metadata": {},
   "outputs": [],
   "source": [
    "df_players = pd.read_sql_query(query, con)\n",
    "#df_players.to_excel(\"Tabla_jugadores_detallada.xlsx\")"
   ]
  },
  {
   "attachments": {},
   "cell_type": "markdown",
   "metadata": {},
   "source": [
    "En la selección de jugadores, no se habla de una selección de un año en especial, por lo que puedo decir me gustaría tener al Alexis del 2015 o con el Vidal del 2017. En verdad está abierto a eso. "
   ]
  },
  {
   "attachments": {},
   "cell_type": "markdown",
   "metadata": {},
   "source": [
    "Para la selección de un arquero, se veran las estadisticas de GK, y además algunas estadisticas de Pases cortos,  pases largos y Shot Power. Aquí se puede elegir el promedio de esas estadisticas o le media geometrica (que castigaría aquellas estadisticas que sean más bajas). Esa decisión se puede tomar con mayor profundidad, pero para este caso solo tomaré el promedio."
   ]
  },
  {
   "cell_type": "code",
   "execution_count": 28,
   "metadata": {},
   "outputs": [
    {
     "data": {
      "text/plain": [
       "player_fifa_api_id        48717.0\n",
       "player_fifa_api_id          48717\n",
       "player_name           Julio Cesar\n",
       "Name: 92070, dtype: object"
      ]
     },
     "execution_count": 28,
     "metadata": {},
     "output_type": "execute_result"
    }
   ],
   "source": [
    "df_arquero = df_players[['short_passing','long_passing','shot_power','gk_diving', 'gk_handling', 'gk_kicking', 'gk_positioning','gk_reflexes']]\n",
    "df_players.iloc[ df_arquero.mean(axis=1).idxmax() ][[\"player_fifa_api_id\",\"player_name\"]]"
   ]
  },
  {
   "attachments": {},
   "cell_type": "markdown",
   "metadata": {},
   "source": [
    "Cómo mejor arquero sale que es Julio Cesar, un jugador de Brasi. \n",
    "https://www.fifaindex.com/es/player/48717\n",
    "\n",
    "Para el resto de los jugadores, puedo elegir las estadisticas que no pertenecen al portero."
   ]
  },
  {
   "cell_type": "code",
   "execution_count": 30,
   "metadata": {},
   "outputs": [],
   "source": [
    "df_resto_jugadores = df_players[['overall_rating', 'potential', 'preferred_foot', 'attacking_work_rate',\n",
    "       'defensive_work_rate', 'crossing', 'finishing', 'heading_accuracy',\n",
    "       'short_passing', 'volleys', 'dribbling', 'curve', 'free_kick_accuracy',\n",
    "       'long_passing', 'ball_control', 'acceleration', 'sprint_speed',\n",
    "       'agility', 'reactions', 'balance', 'shot_power', 'jumping', 'stamina',\n",
    "       'strength', 'long_shots', 'aggression', 'interceptions', 'positioning',\n",
    "       'vision', 'penalties', 'marking', 'standing_tackle','sliding_tackle']]"
   ]
  },
  {
   "cell_type": "code",
   "execution_count": 44,
   "metadata": {},
   "outputs": [
    {
     "name": "stderr",
     "output_type": "stream",
     "text": [
      "C:\\Users\\diego\\AppData\\Local\\Temp/ipykernel_28264/1319895213.py:1: FutureWarning: Dropping of nuisance columns in DataFrame reductions (with 'numeric_only=None') is deprecated; in a future version this will raise TypeError.  Select only valid columns before calling the reduction.\n",
      "  df_resto_jugadores[\"promedio\"] = df_resto_jugadores.mean(axis=1)\n",
      "C:\\Users\\diego\\AppData\\Local\\Temp/ipykernel_28264/1319895213.py:1: SettingWithCopyWarning: \n",
      "A value is trying to be set on a copy of a slice from a DataFrame.\n",
      "Try using .loc[row_indexer,col_indexer] = value instead\n",
      "\n",
      "See the caveats in the documentation: https://pandas.pydata.org/pandas-docs/stable/user_guide/indexing.html#returning-a-view-versus-a-copy\n",
      "  df_resto_jugadores[\"promedio\"] = df_resto_jugadores.mean(axis=1)\n"
     ]
    },
    {
     "data": {
      "text/plain": [
       "array(['Steven Gerrard', 'Pavel Nedved', 'Frank Lampard', 'Maicon',\n",
       "       'Michael Essien', 'Daniele De Rossi', 'Daniel Alves',\n",
       "       'Wayne Rooney', 'Michael Ballack', 'Cesc Fabregas'], dtype=object)"
      ]
     },
     "execution_count": 44,
     "metadata": {},
     "output_type": "execute_result"
    }
   ],
   "source": [
    "df_resto_jugadores[\"promedio\"] = df_resto_jugadores.mean(axis=1)\n",
    "i = 0\n",
    "while True:\n",
    "    i += 1\n",
    "    if df_players.iloc[ df_resto_jugadores[\"promedio\"].nlargest(i).index ][[\"player_fifa_api_id\",\"player_name\"]][\"player_name\"].nunique() >= 10:\n",
    "        break\n",
    "df_players.iloc[ df_resto_jugadores[\"promedio\"].nlargest(i).index ][[\"player_fifa_api_id\",\"player_name\"]][\"player_name\"].unique()"
   ]
  },
  {
   "attachments": {},
   "cell_type": "markdown",
   "metadata": {},
   "source": [
    "Por lo que mi equipo ideal serí Steven Gerrard, Pavel Nedved, Frank Lampard, Maicon,Michael Essien, Daniele De Rossi, Daniel Alves,Wayne Rooney, Michael Ballack, Cesc Fabregas y Julio Cesar\n",
    "\n",
    "# Parte 3\n",
    "\n",
    "Se sugiere usar la posición favorita de cada jugador que se puede obtener en https://www.fifaindex.com\n",
    "\n",
    "Se puede obtener con el siguiente script, creamos una tabla de player_value, accedimos al id_api_fifa entregado por la tabla player, "
   ]
  },
  {
   "cell_type": "code",
   "execution_count": null,
   "metadata": {},
   "outputs": [],
   "source": [
    "import requests\n",
    "import bs4 as bs\n",
    "import sqlite3\n",
    "\n",
    "con = sqlite3.connect('database.sqlite')\n",
    "\n",
    "cur = con.cursor()\n",
    "\n",
    "cur.execute(\"\"\"CREATE TABLE IF NOT EXISTS player_value (\n",
    "                ID varchar(15) NOT NULL,\n",
    "                POSITION varchar(255),\n",
    "                VALUE int,\n",
    "                WAGE int\n",
    "            );\"\"\")\n",
    "\n",
    "def status_extraccion():\n",
    "    generator_player_ID = cur.execute(\"SELECT player_fifa_api_id FROM Player;\")\n",
    "    list_player_ID = [str(id[0]) for id in generator_player_ID]\n",
    "    print(\"Hay {} jugadores en total\".format(len(list_player_ID)))\n",
    "    generator_value_ID = cur.execute(\"SELECT ID FROM player_value;\")\n",
    "    list_value_ID = [str(id[0]) for id in generator_value_ID]\n",
    "    print(\"Hay {} jugadores con sus valores\".format(len(list_value_ID)))\n",
    "    list_ID = list(set(list_player_ID) - set(list_value_ID))\n",
    "    print(\"Faltan extraer datos de {} jugadores.\".format(len(list_ID)))\n",
    "    return list_ID\n",
    "\n",
    "list_ID = status_extraccion()\n",
    "\n",
    "insert_player = \"INSERT INTO player_value VALUES (?,?,?,?)\"\n",
    "\n",
    "for index, id_jugador_fifa in enumerate(list_ID):\n",
    "    r = requests.get(\"https://www.fifaindex.com/es/player/{}/\".format(id_jugador_fifa))\n",
    "    soup = bs.BeautifulSoup(r.text,'html')\n",
    "    try:\n",
    "        post = soup.find(\"a\", attrs = {\"class\":\"link-position\"}).text\n",
    "    except:\n",
    "        post = \"None\"\n",
    "    try:\n",
    "        value = soup.find(\"p\", attrs = {\"class\":\"data-currency-dollar\"}).find(\"span\").text[1:].replace(\".\",\"\")\n",
    "        wage = soup.find_all(\"p\", attrs = {\"class\":\"data-currency-dollar\"})[1].find(\"span\").text[1:].replace(\".\",\"\")\n",
    "    except:\n",
    "        value, wage = 0, 0\n",
    "    cur.execute( insert_player, ( id_jugador_fifa , post,  value, wage))\n",
    "    if index%50==0:\n",
    "        print(( id_jugador_fifa , post,  value, wage))\n",
    "        print(index/len(list_ID)*100)\n",
    "        status_extraccion()\n",
    "        con.commit()"
   ]
  },
  {
   "cell_type": "code",
   "execution_count": 46,
   "metadata": {},
   "outputs": [
    {
     "data": {
      "text/html": [
       "<div>\n",
       "<style scoped>\n",
       "    .dataframe tbody tr th:only-of-type {\n",
       "        vertical-align: middle;\n",
       "    }\n",
       "\n",
       "    .dataframe tbody tr th {\n",
       "        vertical-align: top;\n",
       "    }\n",
       "\n",
       "    .dataframe thead th {\n",
       "        text-align: right;\n",
       "    }\n",
       "</style>\n",
       "<table border=\"1\" class=\"dataframe\">\n",
       "  <thead>\n",
       "    <tr style=\"text-align: right;\">\n",
       "      <th></th>\n",
       "      <th>ID</th>\n",
       "      <th>POSITION</th>\n",
       "      <th>VALUE</th>\n",
       "      <th>WAGE</th>\n",
       "    </tr>\n",
       "  </thead>\n",
       "  <tbody>\n",
       "    <tr>\n",
       "      <th>0</th>\n",
       "      <td>2</td>\n",
       "      <td>MI</td>\n",
       "      <td>675000</td>\n",
       "      <td>7000</td>\n",
       "    </tr>\n",
       "    <tr>\n",
       "      <th>1</th>\n",
       "      <td>6</td>\n",
       "      <td>POR</td>\n",
       "      <td>3000</td>\n",
       "      <td>8000</td>\n",
       "    </tr>\n",
       "    <tr>\n",
       "      <th>2</th>\n",
       "      <td>163848</td>\n",
       "      <td>LI</td>\n",
       "      <td>110000</td>\n",
       "      <td>1700</td>\n",
       "    </tr>\n",
       "    <tr>\n",
       "      <th>3</th>\n",
       "      <td>11</td>\n",
       "      <td>MC</td>\n",
       "      <td>300000</td>\n",
       "      <td>5000</td>\n",
       "    </tr>\n",
       "    <tr>\n",
       "      <th>4</th>\n",
       "      <td>163852</td>\n",
       "      <td>MCD</td>\n",
       "      <td>160000</td>\n",
       "      <td>1700</td>\n",
       "    </tr>\n",
       "    <tr>\n",
       "      <th>5</th>\n",
       "      <td>163854</td>\n",
       "      <td>LD</td>\n",
       "      <td>0</td>\n",
       "      <td>0</td>\n",
       "    </tr>\n",
       "    <tr>\n",
       "      <th>6</th>\n",
       "      <td>163855</td>\n",
       "      <td>MCD</td>\n",
       "      <td>220000</td>\n",
       "      <td>3000</td>\n",
       "    </tr>\n",
       "    <tr>\n",
       "      <th>7</th>\n",
       "      <td>16</td>\n",
       "      <td>MC</td>\n",
       "      <td>700000</td>\n",
       "      <td>7200</td>\n",
       "    </tr>\n",
       "    <tr>\n",
       "      <th>8</th>\n",
       "      <td>229391</td>\n",
       "      <td>MCD</td>\n",
       "      <td>25000000</td>\n",
       "      <td>1500</td>\n",
       "    </tr>\n",
       "    <tr>\n",
       "      <th>9</th>\n",
       "      <td>163858</td>\n",
       "      <td>LI</td>\n",
       "      <td>140000</td>\n",
       "      <td>1600</td>\n",
       "    </tr>\n",
       "  </tbody>\n",
       "</table>\n",
       "</div>"
      ],
      "text/plain": [
       "       ID POSITION     VALUE  WAGE\n",
       "0       2       MI    675000  7000\n",
       "1       6      POR      3000  8000\n",
       "2  163848       LI    110000  1700\n",
       "3      11       MC    300000  5000\n",
       "4  163852      MCD    160000  1700\n",
       "5  163854       LD         0     0\n",
       "6  163855      MCD    220000  3000\n",
       "7      16       MC    700000  7200\n",
       "8  229391      MCD  25000000  1500\n",
       "9  163858       LI    140000  1600"
      ]
     },
     "execution_count": 46,
     "metadata": {},
     "output_type": "execute_result"
    }
   ],
   "source": [
    "query = \"\"\"SELECT  * FROM player_value\"\"\"\n",
    "df_value = pd.read_sql_query(query, con)\n",
    "df_value.head(10)"
   ]
  }
 ],
 "metadata": {
  "kernelspec": {
   "display_name": "Python 3.10.4 ('theVenv')",
   "language": "python",
   "name": "python3"
  },
  "language_info": {
   "codemirror_mode": {
    "name": "ipython",
    "version": 3
   },
   "file_extension": ".py",
   "mimetype": "text/x-python",
   "name": "python",
   "nbconvert_exporter": "python",
   "pygments_lexer": "ipython3",
   "version": "3.10.4"
  },
  "orig_nbformat": 4,
  "vscode": {
   "interpreter": {
    "hash": "c88aba696e5df824e9eb9ca7f1a1e176e10b1295c49ce07e2a04d33bf9287795"
   }
  }
 },
 "nbformat": 4,
 "nbformat_minor": 2
}
